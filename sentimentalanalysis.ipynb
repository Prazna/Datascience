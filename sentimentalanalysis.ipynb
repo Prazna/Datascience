{
  "nbformat": 4,
  "nbformat_minor": 0,
  "metadata": {
    "colab": {
      "name": "sentimentalanalysis.ipynb",
      "provenance": [],
      "collapsed_sections": [],
      "mount_file_id": "17mys0CJowPwUimquZUtYKqw6sBaeAUx8",
      "authorship_tag": "ABX9TyMKOkWnDKpzQqo1VOEQrF7a",
      "include_colab_link": true
    },
    "kernelspec": {
      "name": "python3",
      "display_name": "Python 3"
    }
  },
  "cells": [
    {
      "cell_type": "markdown",
      "metadata": {
        "id": "view-in-github",
        "colab_type": "text"
      },
      "source": [
        "<a href=\"https://colab.research.google.com/github/Prazna/Datascience/blob/master/sentimentalanalysis.ipynb\" target=\"_parent\"><img src=\"https://colab.research.google.com/assets/colab-badge.svg\" alt=\"Open In Colab\"/></a>"
      ]
    },
    {
      "cell_type": "code",
      "metadata": {
        "id": "g8cZhzCEH9wf",
        "colab_type": "code",
        "colab": {
          "base_uri": "https://localhost:8080/",
          "height": 34
        },
        "outputId": "a2e2adc8-49e8-409e-f128-50264b30abae"
      },
      "source": [
        "from google.colab import drive\n",
        "drive.mount('/content/drive')"
      ],
      "execution_count": 3,
      "outputs": [
        {
          "output_type": "stream",
          "text": [
            "Drive already mounted at /content/drive; to attempt to forcibly remount, call drive.mount(\"/content/drive\", force_remount=True).\n"
          ],
          "name": "stdout"
        }
      ]
    },
    {
      "cell_type": "code",
      "metadata": {
        "id": "1Dn1MD1kMV9a",
        "colab_type": "code",
        "colab": {}
      },
      "source": [
        "import time \n",
        "import pandas as pd \n",
        "import numpy as np \n",
        "import matplotlib.pyplot as plt \n",
        "import nltk \n",
        "import io \n",
        "import unicodedata \n",
        "import numpy as np \n",
        "import re \n",
        "import string \n",
        "from numpy import linalg \n",
        "from nltk.sentiment.vader import SentimentIntensityAnalyzer \n",
        "from nltk.tokenize import sent_tokenize, word_tokenize \n",
        "from nltk.tokenize import PunktSentenceTokenizer \n",
        "from nltk.tokenize import PunktSentenceTokenizer \n",
        "from nltk.corpus import webtext \n",
        "from nltk.stem.porter import PorterStemmer \n",
        "from nltk.stem.wordnet import WordNetLemmatizer "
      ],
      "execution_count": 0,
      "outputs": []
    },
    {
      "cell_type": "code",
      "metadata": {
        "id": "ibR3zRxYKStQ",
        "colab_type": "code",
        "colab": {}
      },
      "source": [
        "train = pd.read_csv('/content/drive/My Drive/nlp_analytics_vidhya/nlp_train.csv')\n",
        "test  = pd.read_csv('/content/drive/My Drive/nlp_analytics_vidhya/nlp_test.csv')"
      ],
      "execution_count": 0,
      "outputs": []
    },
    {
      "cell_type": "markdown",
      "metadata": {
        "id": "zvIphmryNp2v",
        "colab_type": "text"
      },
      "source": [
        ""
      ]
    },
    {
      "cell_type": "code",
      "metadata": {
        "id": "mENLzJzYQ6X7",
        "colab_type": "code",
        "colab": {
          "base_uri": "https://localhost:8080/",
          "height": 221
        },
        "outputId": "efaea2fa-32e1-4667-bfd7-6882efd8d2d4"
      },
      "source": [
        "train.info()"
      ],
      "execution_count": 12,
      "outputs": [
        {
          "output_type": "stream",
          "text": [
            "<class 'pandas.core.frame.DataFrame'>\n",
            "RangeIndex: 17494 entries, 0 to 17493\n",
            "Data columns (total 5 columns):\n",
            " #   Column           Non-Null Count  Dtype  \n",
            "---  ------           --------------  -----  \n",
            " 0   review_id        17494 non-null  int64  \n",
            " 1   title            17494 non-null  object \n",
            " 2   year             17316 non-null  float64\n",
            " 3   user_review      17494 non-null  object \n",
            " 4   user_suggestion  17494 non-null  int64  \n",
            "dtypes: float64(1), int64(2), object(2)\n",
            "memory usage: 683.5+ KB\n"
          ],
          "name": "stdout"
        }
      ]
    },
    {
      "cell_type": "code",
      "metadata": {
        "id": "Ar5TCwTXRD5I",
        "colab_type": "code",
        "colab": {
          "base_uri": "https://localhost:8080/",
          "height": 204
        },
        "outputId": "1949026b-261c-4495-d1c9-a2591f151fcb"
      },
      "source": [
        "test.info()"
      ],
      "execution_count": 14,
      "outputs": [
        {
          "output_type": "stream",
          "text": [
            "<class 'pandas.core.frame.DataFrame'>\n",
            "RangeIndex: 8045 entries, 0 to 8044\n",
            "Data columns (total 4 columns):\n",
            " #   Column       Non-Null Count  Dtype  \n",
            "---  ------       --------------  -----  \n",
            " 0   review_id    8045 non-null   int64  \n",
            " 1   title        8045 non-null   object \n",
            " 2   year         7978 non-null   float64\n",
            " 3   user_review  8045 non-null   object \n",
            "dtypes: float64(1), int64(1), object(2)\n",
            "memory usage: 251.5+ KB\n"
          ],
          "name": "stdout"
        }
      ]
    },
    {
      "cell_type": "code",
      "metadata": {
        "id": "lVFAbtcGRHL-",
        "colab_type": "code",
        "colab": {
          "base_uri": "https://localhost:8080/",
          "height": 102
        },
        "outputId": "70ae860f-0780-423b-e135-a3c598465fcb"
      },
      "source": [
        "test.isna().sum()"
      ],
      "execution_count": 15,
      "outputs": [
        {
          "output_type": "execute_result",
          "data": {
            "text/plain": [
              "review_id       0\n",
              "title           0\n",
              "year           67\n",
              "user_review     0\n",
              "dtype: int64"
            ]
          },
          "metadata": {
            "tags": []
          },
          "execution_count": 15
        }
      ]
    },
    {
      "cell_type": "code",
      "metadata": {
        "id": "WbuLa8FFMZx5",
        "colab_type": "code",
        "colab": {
          "base_uri": "https://localhost:8080/",
          "height": 119
        },
        "outputId": "12235c12-a5f1-4a41-f410-39f94524b68f"
      },
      "source": [
        "train.isna().sum()"
      ],
      "execution_count": 9,
      "outputs": [
        {
          "output_type": "execute_result",
          "data": {
            "text/plain": [
              "review_id            0\n",
              "title                0\n",
              "year               178\n",
              "user_review          0\n",
              "user_suggestion      0\n",
              "dtype: int64"
            ]
          },
          "metadata": {
            "tags": []
          },
          "execution_count": 9
        }
      ]
    },
    {
      "cell_type": "code",
      "metadata": {
        "id": "g7h9_X41QszU",
        "colab_type": "code",
        "colab": {
          "base_uri": "https://localhost:8080/",
          "height": 297
        },
        "outputId": "bce66fda-3ab3-4e01-b838-31ea5a737b41"
      },
      "source": [
        "train.describe()"
      ],
      "execution_count": 11,
      "outputs": [
        {
          "output_type": "execute_result",
          "data": {
            "text/html": [
              "<div>\n",
              "<style scoped>\n",
              "    .dataframe tbody tr th:only-of-type {\n",
              "        vertical-align: middle;\n",
              "    }\n",
              "\n",
              "    .dataframe tbody tr th {\n",
              "        vertical-align: top;\n",
              "    }\n",
              "\n",
              "    .dataframe thead th {\n",
              "        text-align: right;\n",
              "    }\n",
              "</style>\n",
              "<table border=\"1\" class=\"dataframe\">\n",
              "  <thead>\n",
              "    <tr style=\"text-align: right;\">\n",
              "      <th></th>\n",
              "      <th>review_id</th>\n",
              "      <th>year</th>\n",
              "      <th>user_suggestion</th>\n",
              "    </tr>\n",
              "  </thead>\n",
              "  <tbody>\n",
              "    <tr>\n",
              "      <th>count</th>\n",
              "      <td>17494.000000</td>\n",
              "      <td>17316.000000</td>\n",
              "      <td>17494.000000</td>\n",
              "    </tr>\n",
              "    <tr>\n",
              "      <th>mean</th>\n",
              "      <td>12423.216989</td>\n",
              "      <td>2016.388427</td>\n",
              "      <td>0.569795</td>\n",
              "    </tr>\n",
              "    <tr>\n",
              "      <th>std</th>\n",
              "      <td>7653.367660</td>\n",
              "      <td>1.390356</td>\n",
              "      <td>0.495119</td>\n",
              "    </tr>\n",
              "    <tr>\n",
              "      <th>min</th>\n",
              "      <td>1.000000</td>\n",
              "      <td>2011.000000</td>\n",
              "      <td>0.000000</td>\n",
              "    </tr>\n",
              "    <tr>\n",
              "      <th>25%</th>\n",
              "      <td>5769.250000</td>\n",
              "      <td>2015.000000</td>\n",
              "      <td>0.000000</td>\n",
              "    </tr>\n",
              "    <tr>\n",
              "      <th>50%</th>\n",
              "      <td>11756.500000</td>\n",
              "      <td>2017.000000</td>\n",
              "      <td>1.000000</td>\n",
              "    </tr>\n",
              "    <tr>\n",
              "      <th>75%</th>\n",
              "      <td>18926.750000</td>\n",
              "      <td>2018.000000</td>\n",
              "      <td>1.000000</td>\n",
              "    </tr>\n",
              "    <tr>\n",
              "      <th>max</th>\n",
              "      <td>25539.000000</td>\n",
              "      <td>2018.000000</td>\n",
              "      <td>1.000000</td>\n",
              "    </tr>\n",
              "  </tbody>\n",
              "</table>\n",
              "</div>"
            ],
            "text/plain": [
              "          review_id          year  user_suggestion\n",
              "count  17494.000000  17316.000000     17494.000000\n",
              "mean   12423.216989   2016.388427         0.569795\n",
              "std     7653.367660      1.390356         0.495119\n",
              "min        1.000000   2011.000000         0.000000\n",
              "25%     5769.250000   2015.000000         0.000000\n",
              "50%    11756.500000   2017.000000         1.000000\n",
              "75%    18926.750000   2018.000000         1.000000\n",
              "max    25539.000000   2018.000000         1.000000"
            ]
          },
          "metadata": {
            "tags": []
          },
          "execution_count": 11
        }
      ]
    },
    {
      "cell_type": "code",
      "metadata": {
        "id": "aywLYKp0RReT",
        "colab_type": "code",
        "colab": {}
      },
      "source": [
        "#plot year to identify the frequency\n",
        "import matplotlib.pyplot as plt"
      ],
      "execution_count": 0,
      "outputs": []
    },
    {
      "cell_type": "code",
      "metadata": {
        "id": "cmb8b5qaRZnM",
        "colab_type": "code",
        "colab": {
          "base_uri": "https://localhost:8080/",
          "height": 292
        },
        "outputId": "4584b85c-aa27-4cbc-c861-ed7ce9032856"
      },
      "source": [
        "train['year'].value_counts().plot.bar()\n",
        "\n",
        "plt.show()"
      ],
      "execution_count": 34,
      "outputs": [
        {
          "output_type": "display_data",
          "data": {
            "image/png": "[encoded data removed]",
            "text/plain": [
              "<Figure size 432x288 with 1 Axes>"
            ]
          },
          "metadata": {
            "tags": [],
            "needs_background": "light"
          }
        }
      ]
    },
    {
      "cell_type": "code",
      "metadata": {
        "id": "-wG7cTOxTc9y",
        "colab_type": "code",
        "colab": {
          "base_uri": "https://localhost:8080/",
          "height": 307
        },
        "outputId": "dec19f3d-5bd8-4186-f033-39a4f7d26071"
      },
      "source": [
        "test['year'].value_counts().plot.bar()"
      ],
      "execution_count": 19,
      "outputs": [
        {
          "output_type": "execute_result",
          "data": {
            "text/plain": [
              "<matplotlib.axes._subplots.AxesSubplot at 0x7fdb51455fd0>"
            ]
          },
          "metadata": {
            "tags": []
          },
          "execution_count": 19
        },
        {
          "output_type": "display_data",
          "data": {
            "image/png": "[encoded data removed]",
            "text/plain": [
              "<Figure size 432x288 with 1 Axes>"
            ]
          },
          "metadata": {
            "tags": [],
            "needs_background": "light"
          }
        }
      ]
    },
    {
      "cell_type": "code",
      "metadata": {
        "id": "MXjBC_PhT-AE",
        "colab_type": "code",
        "colab": {}
      },
      "source": [
        "#year has na values of total = 178 and should be replaced with the most available year - 2018\n",
        "train['year'].fillna(train['year'].mode()[0],inplace = True)"
      ],
      "execution_count": 0,
      "outputs": []
    },
    {
      "cell_type": "code",
      "metadata": {
        "id": "w3dsLwr0Uu7o",
        "colab_type": "code",
        "colab": {}
      },
      "source": [
        "#year has na values of total = 67 and should be replaced with the most available year - 2016\n",
        "test['year'].fillna(test['year'].mode()[0],inplace = True)"
      ],
      "execution_count": 0,
      "outputs": []
    },
    {
      "cell_type": "code",
      "metadata": {
        "id": "AyUdkXJqUj2C",
        "colab_type": "code",
        "colab": {
          "base_uri": "https://localhost:8080/",
          "height": 34
        },
        "outputId": "bd657bac-74f8-450b-a2d0-8ca0a53d32e8"
      },
      "source": [
        "#check to see if there are any NA's left or not\n",
        "train.columns[train.isna().any()]\n"
      ],
      "execution_count": 46,
      "outputs": [
        {
          "output_type": "execute_result",
          "data": {
            "text/plain": [
              "Index([], dtype='object')"
            ]
          },
          "metadata": {
            "tags": []
          },
          "execution_count": 46
        }
      ]
    },
    {
      "cell_type": "code",
      "metadata": {
        "id": "cKcagrwHU2NG",
        "colab_type": "code",
        "colab": {
          "base_uri": "https://localhost:8080/",
          "height": 34
        },
        "outputId": "dee15dcb-77cf-4453-ef49-f99cffa8a744"
      },
      "source": [
        "#check to see if there are any NA's left or not\n",
        "test.columns[test.isna().any()]"
      ],
      "execution_count": 23,
      "outputs": [
        {
          "output_type": "execute_result",
          "data": {
            "text/plain": [
              "Index([], dtype='object')"
            ]
          },
          "metadata": {
            "tags": []
          },
          "execution_count": 23
        }
      ]
    },
    {
      "cell_type": "code",
      "metadata": {
        "id": "nly6POkHWTjA",
        "colab_type": "code",
        "colab": {}
      },
      "source": [
        "#convert text to lowercase\n",
        "train['user_review'] = train['user_review'].str.lower()"
      ],
      "execution_count": 0,
      "outputs": []
    },
    {
      "cell_type": "code",
      "metadata": {
        "id": "7h3laQf1mMyW",
        "colab_type": "code",
        "colab": {}
      },
      "source": [
        "import nltk"
      ],
      "execution_count": 0,
      "outputs": []
    },
    {
      "cell_type": "code",
      "metadata": {
        "id": "deOEMUfAmK5R",
        "colab_type": "code",
        "colab": {
          "base_uri": "https://localhost:8080/",
          "height": 122
        },
        "outputId": "ea4a8c07-e634-47ee-8df6-a4a2ba86cdd3"
      },
      "source": [
        "from nltk.tokenize import word_tokenize\n",
        "nltk.download('punkt')\n",
        "nltk.download('stopwords')\n",
        "from nltk.corpus import stopwords\n",
        "stop_words = stopwords.words('english')\n",
        "print(stop_words)"
      ],
      "execution_count": 82,
      "outputs": [
        {
          "output_type": "stream",
          "text": [
            "[nltk_data] Downloading package punkt to /root/nltk_data...\n",
            "[nltk_data]   Package punkt is already up-to-date!\n",
            "[nltk_data] Downloading package stopwords to /root/nltk_data...\n",
            "[nltk_data]   Package stopwords is already up-to-date!\n",
            "['i', 'me', 'my', 'myself', 'we', 'our', 'ours', 'ourselves', 'you', \"you're\", \"you've\", \"you'll\", \"you'd\", 'your', 'yours', 'yourself', 'yourselves', 'he', 'him', 'his', 'himself', 'she', \"she's\", 'her', 'hers', 'herself', 'it', \"it's\", 'its', 'itself', 'they', 'them', 'their', 'theirs', 'themselves', 'what', 'which', 'who', 'whom', 'this', 'that', \"that'll\", 'these', 'those', 'am', 'is', 'are', 'was', 'were', 'be', 'been', 'being', 'have', 'has', 'had', 'having', 'do', 'does', 'did', 'doing', 'a', 'an', 'the', 'and', 'but', 'if', 'or', 'because', 'as', 'until', 'while', 'of', 'at', 'by', 'for', 'with', 'about', 'against', 'between', 'into', 'through', 'during', 'before', 'after', 'above', 'below', 'to', 'from', 'up', 'down', 'in', 'out', 'on', 'off', 'over', 'under', 'again', 'further', 'then', 'once', 'here', 'there', 'when', 'where', 'why', 'how', 'all', 'any', 'both', 'each', 'few', 'more', 'most', 'other', 'some', 'such', 'no', 'nor', 'not', 'only', 'own', 'same', 'so', 'than', 'too', 'very', 's', 't', 'can', 'will', 'just', 'don', \"don't\", 'should', \"should've\", 'now', 'd', 'll', 'm', 'o', 're', 've', 'y', 'ain', 'aren', \"aren't\", 'couldn', \"couldn't\", 'didn', \"didn't\", 'doesn', \"doesn't\", 'hadn', \"hadn't\", 'hasn', \"hasn't\", 'haven', \"haven't\", 'isn', \"isn't\", 'ma', 'mightn', \"mightn't\", 'mustn', \"mustn't\", 'needn', \"needn't\", 'shan', \"shan't\", 'shouldn', \"shouldn't\", 'wasn', \"wasn't\", 'weren', \"weren't\", 'won', \"won't\", 'wouldn', \"wouldn't\"]\n"
          ],
          "name": "stdout"
        }
      ]
    },
    {
      "cell_type": "code",
      "metadata": {
        "id": "XYZm495qmWUy",
        "colab_type": "code",
        "colab": {
          "base_uri": "https://localhost:8080/",
          "height": 119
        },
        "outputId": "e39a2677-059a-419e-8be7-1686b00ecf96"
      },
      "source": [
        "train['user_review'].head(5)\n"
      ],
      "execution_count": 7,
      "outputs": [
        {
          "output_type": "execute_result",
          "data": {
            "text/plain": [
              "0    i'm scared and hearing creepy voices.  so i'll...\n",
              "1    best game, more better than sam pepper's youtu...\n",
              "2    a littly iffy on the controls, but once you kn...\n",
              "3    great game, fun and colorful and all that.a si...\n",
              "4    not many games have the cute tag right next to...\n",
              "Name: user_review, dtype: object"
            ]
          },
          "metadata": {
            "tags": []
          },
          "execution_count": 7
        }
      ]
    },
    {
      "cell_type": "code",
      "metadata": {
        "id": "tkQPFgTsdhkZ",
        "colab_type": "code",
        "colab": {}
      },
      "source": [
        "train['user_review'] = train['user_review'].str.replace(\"[^a-zA-Z#]\", \" \")"
      ],
      "execution_count": 0,
      "outputs": []
    },
    {
      "cell_type": "code",
      "metadata": {
        "id": "y_xGkF9Ly9eX",
        "colab_type": "code",
        "colab": {}
      },
      "source": [
        "train['user_review'] = train['user_review'].str.lower()"
      ],
      "execution_count": 0,
      "outputs": []
    },
    {
      "cell_type": "code",
      "metadata": {
        "id": "rvXVNQB1oq6q",
        "colab_type": "code",
        "colab": {}
      },
      "source": [
        "train['removestopwords'] = train['user_review'].apply(lambda x: ' '.join([word for word in x.split() if word not in (stop_words)]))"
      ],
      "execution_count": 0,
      "outputs": []
    },
    {
      "cell_type": "code",
      "metadata": {
        "id": "Q0XQcU57Oq97",
        "colab_type": "code",
        "colab": {
          "base_uri": "https://localhost:8080/",
          "height": 119
        },
        "outputId": "2bdfa30a-c912-4fdf-b44b-279afec4fbec"
      },
      "source": [
        "train['removestopwords'].head(5)"
      ],
      "execution_count": 114,
      "outputs": [
        {
          "output_type": "execute_result",
          "data": {
            "text/plain": [
              "0    scared hearing creepy voices pause moment writ...\n",
              "1    best game better sam pepper youtube account ne...\n",
              "2    littly iffy controls know play easy master mad...\n",
              "3    great game fun colorful side note though getti...\n",
              "4    many games cute tag right next horror tag stea...\n",
              "Name: removestopwords, dtype: object"
            ]
          },
          "metadata": {
            "tags": []
          },
          "execution_count": 114
        }
      ]
    },
    {
      "cell_type": "code",
      "metadata": {
        "id": "xvAJvxL0vs07",
        "colab_type": "code",
        "colab": {}
      },
      "source": [
        "train['user_text'] = train.removestopwords.apply(lambda x: x.split(' '))"
      ],
      "execution_count": 0,
      "outputs": []
    },
    {
      "cell_type": "code",
      "metadata": {
        "id": "a9h3iLXWG_nt",
        "colab_type": "code",
        "colab": {
          "base_uri": "https://localhost:8080/",
          "height": 119
        },
        "outputId": "f8ce14f9-7752-4099-c813-14c9e200376e"
      },
      "source": [
        "train['user_text'].head(5)"
      ],
      "execution_count": 116,
      "outputs": [
        {
          "output_type": "execute_result",
          "data": {
            "text/plain": [
              "0    [scared, hearing, creepy, voices, pause, momen...\n",
              "1    [best, game, better, sam, pepper, youtube, acc...\n",
              "2    [littly, iffy, controls, know, play, easy, mas...\n",
              "3    [great, game, fun, colorful, side, note, thoug...\n",
              "4    [many, games, cute, tag, right, next, horror, ...\n",
              "Name: user_text, dtype: object"
            ]
          },
          "metadata": {
            "tags": []
          },
          "execution_count": 116
        }
      ]
    },
    {
      "cell_type": "code",
      "metadata": {
        "id": "bLvkFUqPehMO",
        "colab_type": "code",
        "colab": {}
      },
      "source": [
        "tokens = train['user_text'][0]"
      ],
      "execution_count": 0,
      "outputs": []
    },
    {
      "cell_type": "code",
      "metadata": {
        "id": "CM8ICrY6fMGa",
        "colab_type": "code",
        "colab": {}
      },
      "source": [
        "#Stemize and lematize the text for normalization of the text:"
      ],
      "execution_count": 0,
      "outputs": []
    },
    {
      "cell_type": "code",
      "metadata": {
        "id": "fUr1ArKUfIo-",
        "colab_type": "code",
        "colab": {}
      },
      "source": [
        "from nltk.stem.porter import PorterStemmer\n",
        "porter_stemmer = PorterStemmer()"
      ],
      "execution_count": 0,
      "outputs": []
    },
    {
      "cell_type": "code",
      "metadata": {
        "id": "bHgEw4Kpe-dU",
        "colab_type": "code",
        "colab": {
          "base_uri": "https://localhost:8080/",
          "height": 1000
        },
        "outputId": "83a6e00f-9d0d-4f9e-ddc2-8767a4bdb700"
      },
      "source": [
        "for token in tokens:\n",
        "  print(token + ' --> ' + porter_stemmer.stem(token))"
      ],
      "execution_count": 123,
      "outputs": [
        {
          "output_type": "stream",
          "text": [
            "scared --> scare\n",
            "hearing --> hear\n",
            "creepy --> creepi\n",
            "voices --> voic\n",
            "pause --> paus\n",
            "moment --> moment\n",
            "write --> write\n",
            "review --> review\n",
            "wait --> wait\n",
            "heart --> heart\n",
            "beat --> beat\n",
            "return --> return\n",
            "atleast --> atleast\n",
            "somewhat --> somewhat\n",
            "calmer --> calmer\n",
            "times --> time\n",
            "game --> game\n",
            "adorable --> ador\n",
            "creepy --> creepi\n",
            "like --> like\n",
            "happy --> happi\n",
            "tree --> tree\n",
            "friends --> friend\n",
            "graphics --> graphic\n",
            "sceme --> sceme\n",
            "childhood --> childhood\n",
            "bubble --> bubbl\n",
            "clean --> clean\n",
            "hello --> hello\n",
            "charactes --> charact\n",
            "isnot --> isnot\n",
            "trying --> tri\n",
            "kill --> kill\n",
            "likable --> likabl\n",
            "bit --> bit\n",
            "odd --> odd\n",
            "noob --> noob\n",
            "things --> thing\n",
            "though --> though\n",
            "oh --> oh\n",
            "look --> look\n",
            "class --> class\n",
            "room --> room\n",
            "full --> full\n",
            "ghosts --> ghost\n",
            "dead --> dead\n",
            "children --> children\n",
            "lets --> let\n",
            "shine --> shine\n",
            "flashlight --> flashlight\n",
            "stand --> stand\n",
            "staring --> stare\n",
            "hmm --> hmm\n",
            "creepy --> creepi\n",
            "music --> music\n",
            "turn --> turn\n",
            "around --> around\n",
            "see --> see\n",
            "see --> see\n",
            "chasing --> chase\n",
            "never --> never\n",
            "game --> game\n",
            "afraid --> afraid\n",
            "finding --> find\n",
            "locked --> lock\n",
            "door --> door\n"
          ],
          "name": "stdout"
        }
      ]
    },
    {
      "cell_type": "code",
      "metadata": {
        "id": "pZLL3pj4fcJU",
        "colab_type": "code",
        "colab": {}
      },
      "source": [
        "def stemming(row):\n",
        "  for token in row:\n",
        "    print(token + ' --> ' + porter_stemmer.stem(token))\n"
      ],
      "execution_count": 0,
      "outputs": []
    },
    {
      "cell_type": "code",
      "metadata": {
        "id": "2MwQBhkbeTu6",
        "colab_type": "code",
        "colab": {}
      },
      "source": [
        "train['stemmed_user_text']= train['user_text'].apply(lambda x: [porter_stemmer.stem(y) for y in x])"
      ],
      "execution_count": 0,
      "outputs": []
    },
    {
      "cell_type": "code",
      "metadata": {
        "id": "Z0-EX1lLeb_D",
        "colab_type": "code",
        "colab": {
          "base_uri": "https://localhost:8080/",
          "height": 119
        },
        "outputId": "50a71d74-5597-45e2-fe1a-fad15556b05d"
      },
      "source": [
        "train['stemmed_user_text'].head(5)"
      ],
      "execution_count": 127,
      "outputs": [
        {
          "output_type": "execute_result",
          "data": {
            "text/plain": [
              "0    [scare, hear, creepi, voic, paus, moment, writ...\n",
              "1    [best, game, better, sam, pepper, youtub, acco...\n",
              "2    [littli, iffi, control, know, play, easi, mast...\n",
              "3    [great, game, fun, color, side, note, though, ...\n",
              "4    [mani, game, cute, tag, right, next, horror, t...\n",
              "Name: stemmed_user_text, dtype: object"
            ]
          },
          "metadata": {
            "tags": []
          },
          "execution_count": 127
        }
      ]
    },
    {
      "cell_type": "code",
      "metadata": {
        "id": "BE7YpsuMh2ZT",
        "colab_type": "code",
        "colab": {
          "base_uri": "https://localhost:8080/",
          "height": 68
        },
        "outputId": "2e8f60a9-4edf-483a-acc2-2643702b5018"
      },
      "source": [
        "nltk.download('wordnet')"
      ],
      "execution_count": 130,
      "outputs": [
        {
          "output_type": "stream",
          "text": [
            "[nltk_data] Downloading package wordnet to /root/nltk_data...\n",
            "[nltk_data]   Unzipping corpora/wordnet.zip.\n"
          ],
          "name": "stdout"
        },
        {
          "output_type": "execute_result",
          "data": {
            "text/plain": [
              "True"
            ]
          },
          "metadata": {
            "tags": []
          },
          "execution_count": 130
        }
      ]
    },
    {
      "cell_type": "code",
      "metadata": {
        "id": "yS-I5ff-hnF5",
        "colab_type": "code",
        "colab": {}
      },
      "source": [
        "from nltk.stem.wordnet import WordNetLemmatizer\n",
        "wordnet_lemmatizer = WordNetLemmatizer()"
      ],
      "execution_count": 0,
      "outputs": []
    },
    {
      "cell_type": "code",
      "metadata": {
        "id": "j7GhiXr8hobq",
        "colab_type": "code",
        "colab": {}
      },
      "source": [
        "train['lemmatize_user_text']= train['user_text'].apply(lambda x: [wordnet_lemmatizer.lemmatize(y) for y in x])"
      ],
      "execution_count": 0,
      "outputs": []
    },
    {
      "cell_type": "code",
      "metadata": {
        "id": "S6oGdJcxilQo",
        "colab_type": "code",
        "colab": {}
      },
      "source": [
        "print(nltk.pos_tag(text)) "
      ],
      "execution_count": 0,
      "outputs": []
    }
  ]
}